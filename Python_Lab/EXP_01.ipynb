{
  "nbformat": 4,
  "nbformat_minor": 0,
  "metadata": {
    "colab": {
      "provenance": [],
      "authorship_tag": "ABX9TyPI0c4ZU4Kl25/V/vs1jnmN",
      "include_colab_link": true
    },
    "kernelspec": {
      "name": "python3",
      "display_name": "Python 3"
    },
    "language_info": {
      "name": "python"
    }
  },
  "cells": [
    {
      "cell_type": "markdown",
      "metadata": {
        "id": "view-in-github",
        "colab_type": "text"
      },
      "source": [
        "<a href=\"https://colab.research.google.com/github/PiyushAgarwal14/Python_Lab/blob/main/first.ipynb\" target=\"_parent\"><img src=\"https://colab.research.google.com/assets/colab-badge.svg\" alt=\"Open In Colab\"/></a>"
      ]
    },
    {
      "cell_type": "code",
      "source": [
        "print('Hello to all')\n",
        "Name = \"Ajay\"\n",
        "Age = 21\n",
        "print(Name)\n",
        "print(Age)\n"
      ],
      "metadata": {
        "id": "Oqi5CHV6TwOc"
      },
      "execution_count": null,
      "outputs": []
    },
    {
      "cell_type": "code",
      "source": [
        "\n",
        " val = input (\"Enter a number \")\n",
        " print (val)\n",
        "\n"
      ],
      "metadata": {
        "id": "5G_sOv_Dj1Dk"
      },
      "execution_count": null,
      "outputs": []
    },
    {
      "cell_type": "code",
      "source": [
        "#addition\n",
        "a = 5\n",
        "b = 4\n",
        "print(a+b)"
      ],
      "metadata": {
        "id": "L7qVniQJkTk1"
      },
      "execution_count": null,
      "outputs": []
    },
    {
      "cell_type": "code",
      "source": [
        "# greater than or less then\n",
        "a= 5\n",
        "b= 4\n",
        "print(a>b)\n",
        "print(a<b)"
      ],
      "metadata": {
        "id": "gNKogF5ykagr"
      },
      "execution_count": null,
      "outputs": []
    },
    {
      "cell_type": "code",
      "source": [
        "# greater than equal to\n",
        "x =3\n",
        "y = 3\n",
        "print(x>=y)"
      ],
      "metadata": {
        "colab": {
          "base_uri": "https://localhost:8080/"
        },
        "id": "RsL-2LXEko-D",
        "outputId": "597d871e-abdb-48e5-af64-4804de1738fe"
      },
      "execution_count": null,
      "outputs": [
        {
          "output_type": "stream",
          "name": "stdout",
          "text": [
            "True\n"
          ]
        }
      ]
    },
    {
      "cell_type": "code",
      "source": [
        "#less than equal to\n",
        "z=1\n",
        "k=2\n",
        "print (z<=k)"
      ],
      "metadata": {
        "id": "aGuiSnhYk7TL"
      },
      "execution_count": null,
      "outputs": []
    },
    {
      "cell_type": "code",
      "source": [
        "# take input and stored it\n",
        "age = int (input(\"Enter your age\"))\n",
        "print (age)\n",
        "\n",
        "# print the stored value\n",
        "print (\"the age of ajay is\", age)\n",
        "\n",
        "# if else operation \n",
        "if age > 18:\n",
        "  print(\"you are eligible for driving\")\n",
        "elif age < 18:\n",
        "  print(\"you are not eligible for driving\")"
      ],
      "metadata": {
        "id": "PqVLJr7KdOIP"
      },
      "execution_count": null,
      "outputs": []
    },
    {
      "cell_type": "code",
      "source": [
        "# for loop \n",
        "car = [\"suzuki\", \"tata\", \"bmw\"]\n",
        "for d in car:\n",
        "  print(d)\n",
        "\n",
        "# print length \n",
        "print(len(car))"
      ],
      "metadata": {
        "id": "gkYvjRIvlLRk"
      },
      "execution_count": null,
      "outputs": []
    },
    {
      "cell_type": "code",
      "source": [
        "# print datatype of age\n",
        "age = 21\n",
        "print(type(age))"
      ],
      "metadata": {
        "id": "LDUXbgaFlV77"
      },
      "execution_count": null,
      "outputs": []
    },
    {
      "cell_type": "code",
      "source": [
        "# print all datatypes int, float, string, tuple\n",
        "h = 2.4\n",
        "print(type(h))\n",
        "\n",
        "p = \"piyush\"\n",
        "print(type(p))"
      ],
      "metadata": {
        "id": "XECV3xYgldWD"
      },
      "execution_count": null,
      "outputs": []
    },
    {
      "cell_type": "code",
      "source": [
        "# print list\n",
        "list = [\"apple\", \"mango\"]\n",
        "print(list)\n",
        "\n",
        "# print length of list\n",
        "print(len(list))"
      ],
      "metadata": {
        "id": "vat5CW9ulk78"
      },
      "execution_count": null,
      "outputs": []
    },
    {
      "cell_type": "code",
      "source": [
        "#print tuple\n",
        "tuple = (\"kite\", 4, \"thread\", 1)\n",
        "print(type(tuple))\n",
        "print(len(tuple))\n",
        "print(tuple)\n",
        "\n",
        "bike= (\"suzuki\")\n",
        "print(type(bike))\n"
      ],
      "metadata": {
        "id": "x7qI7kGcoN71"
      },
      "execution_count": null,
      "outputs": []
    },
    {
      "cell_type": "code",
      "source": [
        "tuple1 = (1,2,3)\n",
        "print(type(tuple1))"
      ],
      "metadata": {
        "id": "bVagCbQxoRAz"
      },
      "execution_count": null,
      "outputs": []
    },
    {
      "cell_type": "code",
      "source": [
        "#dictionary (structure in c)\n",
        "capital = {\n",
        "    \"city\": \"jaipur\",\n",
        "    \"vehiclecode\": \"rj45\"\n",
        "}\n",
        "print(capital)\n",
        "print(capital[\"city\"])"
      ],
      "metadata": {
        "id": "ex2Z1LNWoUgb"
      },
      "execution_count": null,
      "outputs": []
    },
    {
      "cell_type": "code",
      "source": [
        "# Duplicate values will overwrite existing values:\n",
        "state = {\n",
        "    \"statename\": \"Rajasthan\",\n",
        "    \"RTO\": \"rj14\",\n",
        "    \"RTO\": \"rj45\"\n",
        "}\n",
        "print(state)"
      ],
      "metadata": {
        "id": "YHY8P11soWeD"
      },
      "execution_count": null,
      "outputs": []
    }
  ]
}
