{
  "nbformat": 4,
  "nbformat_minor": 0,
  "metadata": {
    "colab": {
      "provenance": [],
      "authorship_tag": "ABX9TyOtaCSKRsTrKPH/1YWLOk3S",
      "include_colab_link": true
    },
    "kernelspec": {
      "name": "python3",
      "display_name": "Python 3"
    },
    "language_info": {
      "name": "python"
    }
  },
  "cells": [
    {
      "cell_type": "markdown",
      "metadata": {
        "id": "view-in-github",
        "colab_type": "text"
      },
      "source": [
        "<a href=\"https://colab.research.google.com/github/PiyushAgarwal14/Python_Lab/blob/main/Python_Exp02.ipynb\" target=\"_parent\"><img src=\"https://colab.research.google.com/assets/colab-badge.svg\" alt=\"Open In Colab\"/></a>"
      ]
    },
    {
      "cell_type": "markdown",
      "source": [
        "Python Lab Experiment 2"
      ],
      "metadata": {
        "id": "6RGsQOYm10uc"
      }
    },
    {
      "cell_type": "code",
      "source": [
        "num1 = int(input(\"Enter the first number\"))\n",
        "num2 = int(input(\"Enter the second number\"))\n",
        "num3 = int(input(\"Enter the third number\"))\n",
        "\n",
        "if (num1>num2) and (num1>num3):\n",
        "  print(\"First number is maximum\",num1)\n",
        "elif (num2>num3):\n",
        "  print(\"Second number is maximum\", num2)\n",
        "else:\n",
        "  print(\"Third number is maximum\", num3)"
      ],
      "metadata": {
        "id": "TrmOkgAR2BOk"
      },
      "execution_count": null,
      "outputs": []
    },
    {
      "cell_type": "code",
      "source": [
        "principal = float(input(\"enter the principal amount \"))\n",
        "rate = float(input(\"enter the rate of interest \"))\n",
        "time = float(input(\"enter the time period \"))\n",
        "amount = principal *((1+rate/100)**time)\n",
        "print(amount)\n"
      ],
      "metadata": {
        "id": "uOgGWvLB5D68"
      },
      "execution_count": null,
      "outputs": []
    },
    {
      "cell_type": "code",
      "source": [
        "num = int (input(\"Enter an Integer number\"))\n",
        "if(num%2==0):\n",
        "  print(num, \"is even\")\n",
        "else:\n",
        "  print(num, \"is not even\")"
      ],
      "metadata": {
        "id": "bT1YkHUJ_Y-v"
      },
      "execution_count": null,
      "outputs": []
    },
    {
      "cell_type": "code",
      "source": [
        "for i in range (2,11):\n",
        "  print(1/i)"
      ],
      "metadata": {
        "id": "CHrFseSbAlSD"
      },
      "execution_count": null,
      "outputs": []
    },
    {
      "cell_type": "code",
      "source": [
        "#list\n",
        "plist = [\"red\", \"green\", \"white\", \"purple\", \"pink\", \"marron\"]\n",
        "for i in plist:\n",
        "  print(i)"
      ],
      "metadata": {
        "id": "2sKFA99tEP1o"
      },
      "execution_count": null,
      "outputs": []
    },
    {
      "cell_type": "code",
      "source": [
        "#String\n",
        "pstring = \"Goeduhub technologies\"\n",
        "for i in pstring:\n",
        "  print(i)"
      ],
      "metadata": {
        "id": "sw71xVfkE1pd"
      },
      "execution_count": null,
      "outputs": []
    },
    {
      "cell_type": "code",
      "source": [
        "#dictionary\n",
        "pdict = {1:\"q\", 2:\"w\", 3:\"e\", 4:\"r\"}\n",
        "for i in pdict:\n",
        "  print(i)\n",
        "  print(pdict[i])"
      ],
      "metadata": {
        "id": "rPO1GWcuFVPU"
      },
      "execution_count": null,
      "outputs": []
    },
    {
      "cell_type": "code",
      "source": [
        "# Sum of all the list elements\n",
        "Num= [1,2,3,4,5,6,7,8,9,10]\n",
        "sum=0\n",
        "for i in Num:\n",
        "  sum=sum+i\n",
        "  print(sum)"
      ],
      "metadata": {
        "id": "KT3AR9frGf6g"
      },
      "execution_count": null,
      "outputs": []
    },
    {
      "cell_type": "code",
      "source": [
        "# using while loop that asks the user for a number, and prints a countdown from that number to zero.\n",
        "num = int(input(\"Enter a number \"))\n",
        "while(num>=0):\n",
        "  print(num)\n",
        "  num = num-1"
      ],
      "metadata": {
        "id": "orfpWDSNIcfp"
      },
      "execution_count": null,
      "outputs": []
    },
    {
      "cell_type": "code",
      "source": [
        "# using while loop that asks the user for a number, and prints a countdown from that number to zero.\n",
        "#add time delay\n",
        "import time\n",
        "num = int(input(\"Enter a number \"))\n",
        "while(num>=0):\n",
        "  print(num)\n",
        "  num = num-1\n",
        "  time.sleep(1)"
      ],
      "metadata": {
        "id": "Ghdy_fpZHVbs"
      },
      "execution_count": null,
      "outputs": []
    }
  ]
}