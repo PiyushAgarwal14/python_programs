{
  "nbformat": 4,
  "nbformat_minor": 0,
  "metadata": {
    "colab": {
      "provenance": [],
      "authorship_tag": "ABX9TyOMeDZIHRNQQW3D1ujtWsIf",
      "include_colab_link": true
    },
    "kernelspec": {
      "name": "python3",
      "display_name": "Python 3"
    },
    "language_info": {
      "name": "python"
    }
  },
  "cells": [
    {
      "cell_type": "markdown",
      "metadata": {
        "id": "view-in-github",
        "colab_type": "text"
      },
      "source": [
        "<a href=\"https://colab.research.google.com/github/PiyushAgarwal14/python_programs/blob/main/Exp_03.ipynb\" target=\"_parent\"><img src=\"https://colab.research.google.com/assets/colab-badge.svg\" alt=\"Open In Colab\"/></a>"
      ]
    },
    {
      "cell_type": "code",
      "execution_count": null,
      "metadata": {
        "colab": {
          "base_uri": "https://localhost:8080/"
        },
        "id": "HAAxtWFO6qNH",
        "outputId": "d08241e2-8f42-452e-e59b-241761439286"
      },
      "outputs": [
        {
          "output_type": "stream",
          "name": "stdout",
          "text": [
            "enter string: piyush\n",
            "{'p': 1}\n",
            "{'p': 1, 'i': 1}\n",
            "{'p': 1, 'i': 1, 'y': 1}\n",
            "{'p': 1, 'i': 1, 'y': 1, 'u': 1}\n",
            "{'p': 1, 'i': 1, 'y': 1, 'u': 1, 's': 1}\n",
            "{'p': 1, 'i': 1, 'y': 1, 'u': 1, 's': 1, 'h': 1}\n"
          ]
        }
      ],
      "source": [
        "str = input(\"enter string: \")\n",
        "f = {}\n",
        "for i in str:\n",
        "  if i in f:\n",
        "    f[i] +=1\n",
        "  else:\n",
        "    f[i]=1\n",
        "  print(f)"
      ]
    },
    {
      "cell_type": "code",
      "source": [
        "ofile=open(\"/content/piyush.txt\", \"r\")\n",
        "k=ofile.readlines()\n",
        "t=reversed(k)\n",
        "for i in t:\n",
        "  print(i.rstrip())\n",
        "ofile.close()"
      ],
      "metadata": {
        "colab": {
          "base_uri": "https://localhost:8080/"
        },
        "id": "5JWON_iaCbn1",
        "outputId": "ca10a446-0261-41d1-8db9-188e49571a9a"
      },
      "execution_count": null,
      "outputs": [
        {
          "output_type": "stream",
          "name": "stdout",
          "text": [
            "My name is Piyush Agarwal\n",
            "Hello World\n"
          ]
        }
      ]
    },
    {
      "cell_type": "code",
      "source": [
        "file= open(\"/content/piyush.txt\", \"r\")\n",
        "number_of_lines = 0\n",
        "number_of_characters = 0\n",
        "number_of_words = 0\n",
        "for line in file:\n",
        "  line = line.strip()\n",
        "\n",
        "  words = line.split()\n",
        "  number_of_lines += 1\n",
        "  number_of_words += len(words)\n",
        "  number_of_characters += len(line)\n",
        "\n",
        "file.close()\n",
        "print(\"lines: \", number_of_lines, \"\\n Word: \", number_of_words, \"\\n characters: \", number_of_characters )"
      ],
      "metadata": {
        "colab": {
          "base_uri": "https://localhost:8080/"
        },
        "id": "YJHsEpiGCmOT",
        "outputId": "c3507321-aed0-42f9-8a56-2254126c1ecd"
      },
      "execution_count": null,
      "outputs": [
        {
          "output_type": "stream",
          "name": "stdout",
          "text": [
            "lines:  2 \n",
            " Word:  7 \n",
            " characters:  36\n"
          ]
        }
      ]
    }
  ]
}